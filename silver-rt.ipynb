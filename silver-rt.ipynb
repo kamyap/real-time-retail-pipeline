{
 "cells": [
  {
   "cell_type": "code",
   "execution_count": 0,
   "metadata": {
    "application/vnd.databricks.v1+cell": {
     "cellMetadata": {
      "byteLimit": 2048000,
      "rowLimit": 10000
     },
     "inputWidgets": {},
     "nuid": "e65f454f-9622-4880-8598-887871811892",
     "showTitle": false,
     "tableResultSettingsMap": {},
     "title": ""
    }
   },
   "outputs": [],
   "source": [
    "from pyspark.sql.functions import col, to_timestamp\n",
    "\n",
    "bronze_path = \"dbfs:/mnt/bronze/events\"\n",
    "silver_path = \"dbfs:/mnt/silver/events\"\n",
    "\n",
    "# Read bronze as streaming\n",
    "bronze_df = spark.readStream.format(\"delta\").load(bronze_path)\n",
    "\n",
    "# Silver transformations\n",
    "silver_df = (\n",
    "    bronze_df\n",
    "    # optional: filter invalid rows\n",
    "    .filter(col(\"InvoiceNo\").isNotNull() & col(\"CustomerID\").isNotNull())\n",
    "    # cast numeric columns\n",
    "    .withColumn(\"Quantity\", col(\"Quantity\").cast(\"int\"))\n",
    "    .withColumn(\"UnitPrice\", col(\"UnitPrice\").cast(\"double\"))\n",
    "    .withColumn(\"InvoiceTimestamp\", to_timestamp(col(\"InvoiceDate\"), \"dd-MM-yyyy HH:mm\"))\n",
    "    # drop duplicates\n",
    "    .dropDuplicates([\"InvoiceNo\", \"StockCode\", \"CustomerID\"])\n",
    ")\n",
    "\n",
    "# Write to silver\n",
    "silver_query = (\n",
    "    silver_df.writeStream\n",
    "    .format(\"delta\")\n",
    "    .option(\"checkpointLocation\", silver_path + \"/_checkpoint\")\n",
    "    .outputMode(\"append\")\n",
    "    .start(silver_path)\n",
    ")\n"
   ]
  }
 ],
 "metadata": {
  "application/vnd.databricks.v1+notebook": {
   "computePreferences": null,
   "dashboards": [],
   "environmentMetadata": {
    "base_environment": "",
    "environment_version": "4"
   },
   "inputWidgetPreferences": null,
   "language": "python",
   "notebookMetadata": {
    "pythonIndentUnit": 4
   },
   "notebookName": "silver-rt",
   "widgets": {}
  },
  "language_info": {
   "name": "python"
  }
 },
 "nbformat": 4,
 "nbformat_minor": 0
}