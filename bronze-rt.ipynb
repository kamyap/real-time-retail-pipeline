{
 "cells": [
  {
   "cell_type": "code",
   "execution_count": 0,
   "metadata": {
    "application/vnd.databricks.v1+cell": {
     "cellMetadata": {
      "byteLimit": 2048000,
      "rowLimit": 10000
     },
     "inputWidgets": {},
     "nuid": "3e3a34b2-78e7-475c-958f-cd6db4713d2c",
     "showTitle": false,
     "tableResultSettingsMap": {},
     "title": ""
    }
   },
   "outputs": [],
   "source": [
    "from pyspark.sql import SparkSession\n",
    "from pyspark.sql.functions import col\n",
    "from pyspark.sql.types import StructType, StructField, StringType, IntegerType, DoubleType\n",
    "\n",
    "# === Spark Session (if not already created) ===\n",
    "spark = SparkSession.builder.appName(\"BronzeStream\").getOrCreate()\n",
    "\n",
    "# === Define Schema ===\n",
    "bronze_schema = StructType([\n",
    "    StructField(\"InvoiceNo\", StringType(), True),\n",
    "    StructField(\"StockCode\", StringType(), True),\n",
    "    StructField(\"Description\", StringType(), True),\n",
    "    StructField(\"Quantity\", IntegerType(), True),\n",
    "    StructField(\"InvoiceDate\", StringType(), True),\n",
    "    StructField(\"UnitPrice\", DoubleType(), True),\n",
    "    StructField(\"CustomerID\", StringType(), True),\n",
    "    StructField(\"Country\", StringType(), True)\n",
    "])\n",
    "\n",
    "# === Paths ===\n",
    "input_path = \"dbfs:/FileStore/tables\"  # CSV folder (can drop new CSVs here)\n",
    "bronze_path = \"dbfs:/mnt/bronze/events\"\n",
    "\n",
    "# === Read Streaming CSV ===\n",
    "bronze_stream = (\n",
    "    spark.readStream\n",
    "        .format(\"csv\")\n",
    "        .option(\"header\", True)\n",
    "        .schema(bronze_schema)\n",
    "        .load(input_path)\n",
    ")\n",
    "\n",
    "# === Write to Bronze Delta ===\n",
    "bronze_query = (\n",
    "    bronze_stream.writeStream\n",
    "        .format(\"delta\")\n",
    "        .option(\"checkpointLocation\", bronze_path + \"/_checkpoint\")\n",
    "        .outputMode(\"append\")\n",
    "        .start(bronze_path)\n",
    ")"
   ]
  }
 ],
 "metadata": {
  "application/vnd.databricks.v1+notebook": {
   "computePreferences": null,
   "dashboards": [],
   "environmentMetadata": {
    "base_environment": "",
    "environment_version": "4"
   },
   "inputWidgetPreferences": null,
   "language": "python",
   "notebookMetadata": {
    "pythonIndentUnit": 4
   },
   "notebookName": "bronze-rt",
   "widgets": {}
  },
  "language_info": {
   "name": "python"
  }
 },
 "nbformat": 4,
 "nbformat_minor": 0
}