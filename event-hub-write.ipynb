{
 "cells": [
  {
   "cell_type": "code",
   "execution_count": 0,
   "metadata": {
    "application/vnd.databricks.v1+cell": {
     "cellMetadata": {
      "byteLimit": 2048000,
      "rowLimit": 10000
     },
     "inputWidgets": {},
     "nuid": "9aea3e7b-e8f7-4a24-a0ca-1943f8054f0f",
     "showTitle": false,
     "tableResultSettingsMap": {},
     "title": ""
    }
   },
   "outputs": [],
   "source": [
    "from azure.eventhub import EventHubProducerClient, EventData\n",
    "import json\n",
    "\n",
    "with open(\"/dbfs/FileStore/configs/config.json\", \"r\") as f:\n",
    "    config = json.load(f)\n",
    "# Read CSV\n",
    "df = spark.read.option(\"header\", \"true\").csv(\"/FileStore/tables/Online_Retail.csv\").fillna('')\n",
    "\n",
    "# Take first 100 rows for testing\n",
    "#df_small = df.limit()\n",
    "\n",
    "df = df.repartition(20)\n",
    "\n",
    "def send_partition(rows):\n",
    "    producer = EventHubProducerClient.from_connection_string(config[\"eventhub\"][\"connection_string\"])\n",
    "    batch = producer.create_batch()\n",
    "    \n",
    "    for row in rows:\n",
    "        event = EventData(json.dumps(row.asDict()))\n",
    "        try:\n",
    "            batch.add(event)\n",
    "        except ValueError:  # batch full\n",
    "            producer.send_batch(batch)\n",
    "            batch = producer.create_batch()\n",
    "            batch.add(event)\n",
    "    \n",
    "    if len(batch) > 0:\n",
    "        producer.send_batch(batch)\n",
    "    \n",
    "    producer.close()\n",
    "\n",
    "df_small.rdd.foreachPartition(send_partition)\n"
   ]
  }
 ],
 "metadata": {
  "application/vnd.databricks.v1+notebook": {
   "computePreferences": null,
   "dashboards": [],
   "environmentMetadata": {
    "base_environment": "",
    "environment_version": "4"
   },
   "inputWidgetPreferences": null,
   "language": "python",
   "notebookMetadata": {
    "pythonIndentUnit": 4
   },
   "notebookName": "event-hub-write",
   "widgets": {}
  },
  "language_info": {
   "name": "python"
  }
 },
 "nbformat": 4,
 "nbformat_minor": 0
}