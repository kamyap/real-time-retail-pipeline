{
 "cells": [
  {
   "cell_type": "code",
   "execution_count": 0,
   "metadata": {
    "application/vnd.databricks.v1+cell": {
     "cellMetadata": {
      "byteLimit": 2048000,
      "rowLimit": 10000
     },
     "inputWidgets": {},
     "nuid": "9400dc34-c560-4beb-89ac-b9f7fab2bcd5",
     "showTitle": false,
     "tableResultSettingsMap": {},
     "title": ""
    }
   },
   "outputs": [],
   "source": [
    "from pyspark.sql.functions import col, sum as _sum, avg as _avg, countDistinct, approx_count_distinct\n",
    "from pyspark.sql.types import IntegerType, DoubleType\n",
    "import json\n",
    "\n",
    "with open(\"/dbfs/FileStore/configs/config.json\", \"r\") as f:\n",
    "    config = json.load(f)\n",
    "\n",
    "# Paths\n",
    "silver_path = config[\"delta_tables\"][\"silver_path\"]\n",
    "gold_path = config[\"delta_tables\"][\"gold_path\"]\n",
    "\n",
    "# Read Silver as streaming\n",
    "silver_df = spark.readStream.format(\"delta\").load(silver_path)\n",
    "\n",
    "# Drop duplicates (optional safety)\n",
    "gold_input_df = silver_df.dropDuplicates([\"InvoiceNo\", \"StockCode\", \"CustomerID\"])\n",
    "\n",
    "# Cast numeric columns if not already\n",
    "gold_input_df = gold_input_df \\\n",
    "    .withColumn(\"Quantity\", col(\"Quantity\").cast(IntegerType())) \\\n",
    "    .withColumn(\"UnitPrice\", col(\"UnitPrice\").cast(DoubleType()))\n",
    "\n",
    "# Aggregations\n",
    "gold_agg_df = gold_input_df.groupBy(\"Country\").agg(\n",
    "    _sum(col(\"Quantity\") * col(\"UnitPrice\")).alias(\"TotalSales\"),\n",
    "    _sum(\"Quantity\").alias(\"TotalQuantity\"),\n",
    "    approx_count_distinct(\"CustomerID\").alias(\"UniqueCustomers\"),\n",
    "    (_sum(col(\"Quantity\") * col(\"UnitPrice\")) / _sum(\"Quantity\")).alias(\"AvgOrderValue\")\n",
    ")\n",
    "\n",
    "#display(gold_agg_df)\n",
    "# Write to Gold Delta\n",
    "gold_query = (\n",
    "    gold_agg_df.writeStream\n",
    "    .format(\"delta\")\n",
    "    .option(\"checkpointLocation\", gold_path + \"/_checkpoint\")\n",
    "    .outputMode(\"complete\")   # Complete mode is required for aggregations\n",
    "    .start(gold_path)\n",
    ")\n",
    "\n",
    "\n"
   ]
  }
 ],
 "metadata": {
  "application/vnd.databricks.v1+notebook": {
   "computePreferences": null,
   "dashboards": [
    {
     "elements": [],
     "globalVars": {},
     "guid": "",
     "layoutOption": {
      "grid": true,
      "stack": true
     },
     "nuid": "2eaec2ca-32cb-4c9f-8369-f66ee8ccb4cf",
     "origId": 8385704302850043,
     "title": "Untitled",
     "version": "DashboardViewV1",
     "width": 1024
    }
   ],
   "environmentMetadata": {
    "base_environment": "",
    "environment_version": "4"
   },
   "inputWidgetPreferences": null,
   "language": "python",
   "notebookMetadata": {
    "pythonIndentUnit": 4
   },
   "notebookName": "gold-rt",
   "widgets": {}
  },
  "language_info": {
   "name": "python"
  }
 },
 "nbformat": 4,
 "nbformat_minor": 0
}